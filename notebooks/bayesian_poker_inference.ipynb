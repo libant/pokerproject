{
  "nbformat": 4,
  "nbformat_minor": 0,
  "metadata": {
    "colab": {
      "provenance": []
    },
    "kernelspec": {
      "name": "python3",
      "display_name": "Python 3"
    },
    "language_info": {
      "name": "python"
    }
  },
  "cells": [
    {
      "cell_type": "code",
      "execution_count": 10,
      "metadata": {
        "colab": {
          "base_uri": "https://localhost:8080/"
        },
        "id": "chWArKHZEJJj",
        "outputId": "42a6ab45-458b-499b-92cd-41895611b175"
      },
      "outputs": [
        {
          "output_type": "stream",
          "name": "stdout",
          "text": [
            "Cloning into 'pokerproject'...\n",
            "remote: Enumerating objects: 70, done.\u001b[K\n",
            "remote: Counting objects: 100% (70/70), done.\u001b[K\n",
            "remote: Compressing objects: 100% (52/52), done.\u001b[K\n",
            "remote: Total 70 (delta 22), reused 41 (delta 11), pack-reused 0 (from 0)\u001b[K\n",
            "Receiving objects: 100% (70/70), 21.07 KiB | 10.53 MiB/s, done.\n",
            "Resolving deltas: 100% (22/22), done.\n",
            "/content/pokerproject/pokerproject\n",
            "Obtaining file:///content/pokerproject/pokerproject\n",
            "  Preparing metadata (setup.py) ... \u001b[?25l\u001b[?25hdone\n",
            "Requirement already satisfied: matplotlib in /usr/local/lib/python3.11/dist-packages (from bayesian-poker-inference==0.1.0) (3.10.0)\n",
            "Requirement already satisfied: contourpy>=1.0.1 in /usr/local/lib/python3.11/dist-packages (from matplotlib->bayesian-poker-inference==0.1.0) (1.3.1)\n",
            "Requirement already satisfied: cycler>=0.10 in /usr/local/lib/python3.11/dist-packages (from matplotlib->bayesian-poker-inference==0.1.0) (0.12.1)\n",
            "Requirement already satisfied: fonttools>=4.22.0 in /usr/local/lib/python3.11/dist-packages (from matplotlib->bayesian-poker-inference==0.1.0) (4.57.0)\n",
            "Requirement already satisfied: kiwisolver>=1.3.1 in /usr/local/lib/python3.11/dist-packages (from matplotlib->bayesian-poker-inference==0.1.0) (1.4.8)\n",
            "Requirement already satisfied: numpy>=1.23 in /usr/local/lib/python3.11/dist-packages (from matplotlib->bayesian-poker-inference==0.1.0) (2.0.2)\n",
            "Requirement already satisfied: packaging>=20.0 in /usr/local/lib/python3.11/dist-packages (from matplotlib->bayesian-poker-inference==0.1.0) (24.2)\n",
            "Requirement already satisfied: pillow>=8 in /usr/local/lib/python3.11/dist-packages (from matplotlib->bayesian-poker-inference==0.1.0) (11.1.0)\n",
            "Requirement already satisfied: pyparsing>=2.3.1 in /usr/local/lib/python3.11/dist-packages (from matplotlib->bayesian-poker-inference==0.1.0) (3.2.3)\n",
            "Requirement already satisfied: python-dateutil>=2.7 in /usr/local/lib/python3.11/dist-packages (from matplotlib->bayesian-poker-inference==0.1.0) (2.8.2)\n",
            "Requirement already satisfied: six>=1.5 in /usr/local/lib/python3.11/dist-packages (from python-dateutil>=2.7->matplotlib->bayesian-poker-inference==0.1.0) (1.17.0)\n",
            "Installing collected packages: bayesian-poker-inference\n",
            "  Running setup.py develop for bayesian-poker-inference\n",
            "Successfully installed bayesian-poker-inference-0.1.0\n"
          ]
        }
      ],
      "source": [
        "# Bayesian Poker Inference\n",
        "\n",
        "# A Bayesian Approach to Poker Hand Analysis\n",
        "\n",
        "# This notebook demonstrates how to apply Bayesian inference techniques to analyze poker hand types.\n",
        "# In this project, we estimate the likelihood of various poker hand types (e.g., Straight Flush, Full House, etc.) based on partial card information, and update our beliefs using Bayesian updating.\n",
        "# The workflow includes hand classification, likelihood estimation, Bayesian updating, posterior visualization, and utility functions.\n",
        "\n",
        "## Setup and Imports\n",
        "\n",
        "# Before running the notebook, ensure that your package is installed.\n",
        "# If you are running in Google Colab, you may need to install your package from GitHub or upload the files.\n",
        "# Uncomment the installation command below if necessary.\n",
        "\n",
        "# %%\n",
        "# Uncomment the following line in Google Colab if your package is not installed\n",
        "!git clone https://github.com/libant/pokerproject.git\n",
        "%cd pokerproject\n",
        "!pip install -e .\n",
        "\n",
        "# Import necessary modules from the bayesian_poker package\n",
        "from bayesian_poker.hand_types import classify_hand\n",
        "from bayesian_poker.likelihood import compute_likelihood\n",
        "from bayesian_poker.bayesian_update import bayesian_update\n",
        "from bayesian_poker.visualization import plot_posteriors\n",
        "from bayesian_poker.helper import get_deck"
      ]
    },
    {
      "cell_type": "code",
      "source": [
        "## 1. Hand Classification\n",
        "\n",
        "# We start by classifying a complete 5‑card hand. In this example, we classify a hand as a Straight Flush.\n",
        "\n",
        "hand = ['AH', 'KH', 'QH', 'JH', '10H']\n",
        "\n",
        "# Classify the hand using the combinatorial functions\n",
        "hand_type = classify_hand(hand)\n",
        "print(\"Hand:\", hand)\n",
        "print(\"Classified as:\", hand_type)"
      ],
      "metadata": {
        "colab": {
          "base_uri": "https://localhost:8080/"
        },
        "id": "D1LIXSFREpIa",
        "outputId": "839094ea-901c-4eb9-c2d8-491b7bc9cb45"
      },
      "execution_count": 11,
      "outputs": [
        {
          "output_type": "stream",
          "name": "stdout",
          "text": [
            "Hand: ['AH', 'KH', 'QH', 'JH', '10H']\n",
            "Classified as: Straight Flush\n"
          ]
        }
      ]
    },
    {
      "cell_type": "code",
      "source": [
        "## 2. Partial Observation Likelihood\n",
        "\n",
        "# We now estimate the likelihood that a partial hand will complete to a given hand type.\n",
        "# For instance, we use a partial hand of 4 hearts to compute the probability of completing a flush.\n",
        "\n",
        "# Define a partial hand with 4 hearts\n",
        "partial_hand = ['2H', '5H', '7H', '9H']\n",
        "\n",
        "# Compute the likelihood of obtaining a Flush with the partial hand\n",
        "likelihood_flush = compute_likelihood(partial_hand, \"Flush\")\n",
        "print(\"Partial hand:\", partial_hand)\n",
        "print(\"Likelihood of a Flush:\", likelihood_flush)"
      ],
      "metadata": {
        "colab": {
          "base_uri": "https://localhost:8080/"
        },
        "id": "7LDaVx7rE6mK",
        "outputId": "ede84e21-ff18-41dc-8905-4e0e8a392243"
      },
      "execution_count": 12,
      "outputs": [
        {
          "output_type": "stream",
          "name": "stdout",
          "text": [
            "Partial hand: ['2H', '5H', '7H', '9H']\n",
            "Likelihood of a Flush: 0.1875\n"
          ]
        }
      ]
    },
    {
      "cell_type": "code",
      "source": [
        "## 3. Bayesian Updating\n",
        "\n",
        "# We combine prior probabilities with the computed likelihoods to get posterior probabilities using Bayes' theorem.\n",
        "\n",
        "\n",
        "# %%\n",
        "# Define prior probabilities for various poker hand types\n",
        "priors = {\n",
        "    \"Flush\": 0.2,\n",
        "    \"Straight\": 0.1,\n",
        "    \"Straight Flush\": 0.01,\n",
        "    \"Four of a Kind\": 0.005,\n",
        "    \"Full House\": 0.03,\n",
        "    \"Three of a Kind\": 0.04,\n",
        "    \"Two Pair\": 0.05,\n",
        "    \"One Pair\": 0.3,\n",
        "    \"High Card\": 0.265\n",
        "}\n",
        "\n",
        "# Use a partial hand example (2 known cards)\n",
        "partial_hand_example = ['AH', 'KH']\n",
        "\n",
        "# Compute likelihoods for each hand type using the partial hand example\n",
        "likelihoods = {ht: compute_likelihood(partial_hand_example, ht) for ht in priors}\n",
        "\n",
        "# Update posterior probabilities using Bayesian updating\n",
        "posteriors = bayesian_update(priors, likelihoods)\n",
        "\n",
        "print(\"Posterior Probabilities:\")\n",
        "for ht, prob in posteriors.items():\n",
        "    print(f\"{ht}: {prob:.4f}\")"
      ],
      "metadata": {
        "colab": {
          "base_uri": "https://localhost:8080/"
        },
        "id": "CfBVIkCBFGdx",
        "outputId": "c0e1a3b5-b41c-49be-c89a-64fa91f59f89"
      },
      "execution_count": 13,
      "outputs": [
        {
          "output_type": "stream",
          "name": "stdout",
          "text": [
            "Posterior Probabilities:\n",
            "Flush: 0.0071\n",
            "Straight: 0.0012\n",
            "Straight Flush: 0.0000\n",
            "Four of a Kind: 0.0000\n",
            "Full House: 0.0002\n",
            "Three of a Kind: 0.0024\n",
            "Two Pair: 0.0076\n",
            "One Pair: 0.4572\n",
            "High Card: 0.5244\n"
          ]
        }
      ]
    },
    {
      "cell_type": "code",
      "source": [
        "## 4. Posterior Visualization\n",
        "\n",
        "# We visualize the posterior probabilities using a bar chart.\n",
        "\n",
        "import plotly.graph_objects as go\n",
        "import pandas as pd\n",
        "\n",
        "priors = {\n",
        "    \"Flush\": 0.2,\n",
        "    \"Straight\": 0.1,\n",
        "    \"Straight Flush\": 0.01,\n",
        "    \"Four of a Kind\": 0.005,\n",
        "    \"Full House\": 0.03,\n",
        "    \"Three of a Kind\": 0.04,\n",
        "    \"Two Pair\": 0.05,\n",
        "    \"One Pair\": 0.3,\n",
        "    \"High Card\": 0.265\n",
        "}\n",
        "\n",
        "# Assume posteriors are computed from your Bayesian updating\n",
        "posteriors = {\n",
        "    \"Flush\": 0.0071,\n",
        "    \"Straight\": 0.0012,\n",
        "    \"Straight Flush\": 0.0000,\n",
        "    \"Four of a Kind\": 0.0000,\n",
        "    \"Full House\": 0.0002,\n",
        "    \"Three of a Kind\": 0.0024,\n",
        "    \"Two Pair\": 0.0076,\n",
        "    \"One Pair\": 0.4572,\n",
        "    \"High Card\": 0.5244\n",
        "}\n",
        "\n",
        "df = pd.DataFrame(data)\n",
        "\n",
        "fig = go.Figure()\n",
        "\n",
        "for hand in priors.keys():\n",
        "    fig.add_trace(\n",
        "        go.Scatter(\n",
        "            x=[\"Prior\", \"Posterior\"],\n",
        "            y=[priors[hand], posteriors[hand]],\n",
        "            mode=\"lines+markers+text\",\n",
        "            text=[f\"{priors[hand]:.3f}\", f\"{posteriors[hand]:.3f}\"],\n",
        "            textposition=\"top center\",\n",
        "            name=hand,\n",
        "            line=dict(width=2)\n",
        "        )\n",
        "    )\n",
        "\n",
        "fig.update_layout(\n",
        "    title=\"Slope Chart: Prior vs. Posterior Probabilities\",\n",
        "    xaxis_title=\"Stage\",\n",
        "    yaxis_title=\"Probability\",\n",
        "    template=\"plotly_white\",\n",
        "    legend_title=\"Poker Hand Type\"\n",
        ")\n",
        "\n",
        "fig.show()"
      ],
      "metadata": {
        "colab": {
          "base_uri": "https://localhost:8080/",
          "height": 542
        },
        "id": "w1u0dYIvHj6o",
        "outputId": "7320571c-04f4-4b85-aac6-3ed0b8d5a383"
      },
      "execution_count": 20,
      "outputs": [
        {
          "output_type": "display_data",
          "data": {
            "text/html": [
              "<html>\n",
              "<head><meta charset=\"utf-8\" /></head>\n",
              "<body>\n",
              "    <div>            <script src=\"https://cdnjs.cloudflare.com/ajax/libs/mathjax/2.7.5/MathJax.js?config=TeX-AMS-MML_SVG\"></script><script type=\"text/javascript\">if (window.MathJax && window.MathJax.Hub && window.MathJax.Hub.Config) {window.MathJax.Hub.Config({SVG: {font: \"STIX-Web\"}});}</script>                <script type=\"text/javascript\">window.PlotlyConfig = {MathJaxConfig: 'local'};</script>\n",
              "        <script charset=\"utf-8\" src=\"https://cdn.plot.ly/plotly-2.35.2.min.js\"></script>                <div id=\"b1d34ad1-bdda-4b56-9d5b-e61920165eb9\" class=\"plotly-graph-div\" style=\"height:525px; width:100%;\"></div>            <script type=\"text/javascript\">                                    window.PLOTLYENV=window.PLOTLYENV || {};                                    if (document.getElementById(\"b1d34ad1-bdda-4b56-9d5b-e61920165eb9\")) {                    Plotly.newPlot(                        \"b1d34ad1-bdda-4b56-9d5b-e61920165eb9\",                        [{\"line\":{\"width\":2},\"mode\":\"lines+markers+text\",\"name\":\"Flush\",\"text\":[\"0.200\",\"0.007\"],\"textposition\":\"top center\",\"x\":[\"Prior\",\"Posterior\"],\"y\":[0.2,0.0071],\"type\":\"scatter\"},{\"line\":{\"width\":2},\"mode\":\"lines+markers+text\",\"name\":\"Straight\",\"text\":[\"0.100\",\"0.001\"],\"textposition\":\"top center\",\"x\":[\"Prior\",\"Posterior\"],\"y\":[0.1,0.0012],\"type\":\"scatter\"},{\"line\":{\"width\":2},\"mode\":\"lines+markers+text\",\"name\":\"Straight Flush\",\"text\":[\"0.010\",\"0.000\"],\"textposition\":\"top center\",\"x\":[\"Prior\",\"Posterior\"],\"y\":[0.01,0.0],\"type\":\"scatter\"},{\"line\":{\"width\":2},\"mode\":\"lines+markers+text\",\"name\":\"Four of a Kind\",\"text\":[\"0.005\",\"0.000\"],\"textposition\":\"top center\",\"x\":[\"Prior\",\"Posterior\"],\"y\":[0.005,0.0],\"type\":\"scatter\"},{\"line\":{\"width\":2},\"mode\":\"lines+markers+text\",\"name\":\"Full House\",\"text\":[\"0.030\",\"0.000\"],\"textposition\":\"top center\",\"x\":[\"Prior\",\"Posterior\"],\"y\":[0.03,0.0002],\"type\":\"scatter\"},{\"line\":{\"width\":2},\"mode\":\"lines+markers+text\",\"name\":\"Three of a Kind\",\"text\":[\"0.040\",\"0.002\"],\"textposition\":\"top center\",\"x\":[\"Prior\",\"Posterior\"],\"y\":[0.04,0.0024],\"type\":\"scatter\"},{\"line\":{\"width\":2},\"mode\":\"lines+markers+text\",\"name\":\"Two Pair\",\"text\":[\"0.050\",\"0.008\"],\"textposition\":\"top center\",\"x\":[\"Prior\",\"Posterior\"],\"y\":[0.05,0.0076],\"type\":\"scatter\"},{\"line\":{\"width\":2},\"mode\":\"lines+markers+text\",\"name\":\"One Pair\",\"text\":[\"0.300\",\"0.457\"],\"textposition\":\"top center\",\"x\":[\"Prior\",\"Posterior\"],\"y\":[0.3,0.4572],\"type\":\"scatter\"},{\"line\":{\"width\":2},\"mode\":\"lines+markers+text\",\"name\":\"High Card\",\"text\":[\"0.265\",\"0.524\"],\"textposition\":\"top center\",\"x\":[\"Prior\",\"Posterior\"],\"y\":[0.265,0.5244],\"type\":\"scatter\"}],                        {\"template\":{\"data\":{\"barpolar\":[{\"marker\":{\"line\":{\"color\":\"white\",\"width\":0.5},\"pattern\":{\"fillmode\":\"overlay\",\"size\":10,\"solidity\":0.2}},\"type\":\"barpolar\"}],\"bar\":[{\"error_x\":{\"color\":\"#2a3f5f\"},\"error_y\":{\"color\":\"#2a3f5f\"},\"marker\":{\"line\":{\"color\":\"white\",\"width\":0.5},\"pattern\":{\"fillmode\":\"overlay\",\"size\":10,\"solidity\":0.2}},\"type\":\"bar\"}],\"carpet\":[{\"aaxis\":{\"endlinecolor\":\"#2a3f5f\",\"gridcolor\":\"#C8D4E3\",\"linecolor\":\"#C8D4E3\",\"minorgridcolor\":\"#C8D4E3\",\"startlinecolor\":\"#2a3f5f\"},\"baxis\":{\"endlinecolor\":\"#2a3f5f\",\"gridcolor\":\"#C8D4E3\",\"linecolor\":\"#C8D4E3\",\"minorgridcolor\":\"#C8D4E3\",\"startlinecolor\":\"#2a3f5f\"},\"type\":\"carpet\"}],\"choropleth\":[{\"colorbar\":{\"outlinewidth\":0,\"ticks\":\"\"},\"type\":\"choropleth\"}],\"contourcarpet\":[{\"colorbar\":{\"outlinewidth\":0,\"ticks\":\"\"},\"type\":\"contourcarpet\"}],\"contour\":[{\"colorbar\":{\"outlinewidth\":0,\"ticks\":\"\"},\"colorscale\":[[0.0,\"#0d0887\"],[0.1111111111111111,\"#46039f\"],[0.2222222222222222,\"#7201a8\"],[0.3333333333333333,\"#9c179e\"],[0.4444444444444444,\"#bd3786\"],[0.5555555555555556,\"#d8576b\"],[0.6666666666666666,\"#ed7953\"],[0.7777777777777778,\"#fb9f3a\"],[0.8888888888888888,\"#fdca26\"],[1.0,\"#f0f921\"]],\"type\":\"contour\"}],\"heatmapgl\":[{\"colorbar\":{\"outlinewidth\":0,\"ticks\":\"\"},\"colorscale\":[[0.0,\"#0d0887\"],[0.1111111111111111,\"#46039f\"],[0.2222222222222222,\"#7201a8\"],[0.3333333333333333,\"#9c179e\"],[0.4444444444444444,\"#bd3786\"],[0.5555555555555556,\"#d8576b\"],[0.6666666666666666,\"#ed7953\"],[0.7777777777777778,\"#fb9f3a\"],[0.8888888888888888,\"#fdca26\"],[1.0,\"#f0f921\"]],\"type\":\"heatmapgl\"}],\"heatmap\":[{\"colorbar\":{\"outlinewidth\":0,\"ticks\":\"\"},\"colorscale\":[[0.0,\"#0d0887\"],[0.1111111111111111,\"#46039f\"],[0.2222222222222222,\"#7201a8\"],[0.3333333333333333,\"#9c179e\"],[0.4444444444444444,\"#bd3786\"],[0.5555555555555556,\"#d8576b\"],[0.6666666666666666,\"#ed7953\"],[0.7777777777777778,\"#fb9f3a\"],[0.8888888888888888,\"#fdca26\"],[1.0,\"#f0f921\"]],\"type\":\"heatmap\"}],\"histogram2dcontour\":[{\"colorbar\":{\"outlinewidth\":0,\"ticks\":\"\"},\"colorscale\":[[0.0,\"#0d0887\"],[0.1111111111111111,\"#46039f\"],[0.2222222222222222,\"#7201a8\"],[0.3333333333333333,\"#9c179e\"],[0.4444444444444444,\"#bd3786\"],[0.5555555555555556,\"#d8576b\"],[0.6666666666666666,\"#ed7953\"],[0.7777777777777778,\"#fb9f3a\"],[0.8888888888888888,\"#fdca26\"],[1.0,\"#f0f921\"]],\"type\":\"histogram2dcontour\"}],\"histogram2d\":[{\"colorbar\":{\"outlinewidth\":0,\"ticks\":\"\"},\"colorscale\":[[0.0,\"#0d0887\"],[0.1111111111111111,\"#46039f\"],[0.2222222222222222,\"#7201a8\"],[0.3333333333333333,\"#9c179e\"],[0.4444444444444444,\"#bd3786\"],[0.5555555555555556,\"#d8576b\"],[0.6666666666666666,\"#ed7953\"],[0.7777777777777778,\"#fb9f3a\"],[0.8888888888888888,\"#fdca26\"],[1.0,\"#f0f921\"]],\"type\":\"histogram2d\"}],\"histogram\":[{\"marker\":{\"pattern\":{\"fillmode\":\"overlay\",\"size\":10,\"solidity\":0.2}},\"type\":\"histogram\"}],\"mesh3d\":[{\"colorbar\":{\"outlinewidth\":0,\"ticks\":\"\"},\"type\":\"mesh3d\"}],\"parcoords\":[{\"line\":{\"colorbar\":{\"outlinewidth\":0,\"ticks\":\"\"}},\"type\":\"parcoords\"}],\"pie\":[{\"automargin\":true,\"type\":\"pie\"}],\"scatter3d\":[{\"line\":{\"colorbar\":{\"outlinewidth\":0,\"ticks\":\"\"}},\"marker\":{\"colorbar\":{\"outlinewidth\":0,\"ticks\":\"\"}},\"type\":\"scatter3d\"}],\"scattercarpet\":[{\"marker\":{\"colorbar\":{\"outlinewidth\":0,\"ticks\":\"\"}},\"type\":\"scattercarpet\"}],\"scattergeo\":[{\"marker\":{\"colorbar\":{\"outlinewidth\":0,\"ticks\":\"\"}},\"type\":\"scattergeo\"}],\"scattergl\":[{\"marker\":{\"colorbar\":{\"outlinewidth\":0,\"ticks\":\"\"}},\"type\":\"scattergl\"}],\"scattermapbox\":[{\"marker\":{\"colorbar\":{\"outlinewidth\":0,\"ticks\":\"\"}},\"type\":\"scattermapbox\"}],\"scatterpolargl\":[{\"marker\":{\"colorbar\":{\"outlinewidth\":0,\"ticks\":\"\"}},\"type\":\"scatterpolargl\"}],\"scatterpolar\":[{\"marker\":{\"colorbar\":{\"outlinewidth\":0,\"ticks\":\"\"}},\"type\":\"scatterpolar\"}],\"scatter\":[{\"fillpattern\":{\"fillmode\":\"overlay\",\"size\":10,\"solidity\":0.2},\"type\":\"scatter\"}],\"scatterternary\":[{\"marker\":{\"colorbar\":{\"outlinewidth\":0,\"ticks\":\"\"}},\"type\":\"scatterternary\"}],\"surface\":[{\"colorbar\":{\"outlinewidth\":0,\"ticks\":\"\"},\"colorscale\":[[0.0,\"#0d0887\"],[0.1111111111111111,\"#46039f\"],[0.2222222222222222,\"#7201a8\"],[0.3333333333333333,\"#9c179e\"],[0.4444444444444444,\"#bd3786\"],[0.5555555555555556,\"#d8576b\"],[0.6666666666666666,\"#ed7953\"],[0.7777777777777778,\"#fb9f3a\"],[0.8888888888888888,\"#fdca26\"],[1.0,\"#f0f921\"]],\"type\":\"surface\"}],\"table\":[{\"cells\":{\"fill\":{\"color\":\"#EBF0F8\"},\"line\":{\"color\":\"white\"}},\"header\":{\"fill\":{\"color\":\"#C8D4E3\"},\"line\":{\"color\":\"white\"}},\"type\":\"table\"}]},\"layout\":{\"annotationdefaults\":{\"arrowcolor\":\"#2a3f5f\",\"arrowhead\":0,\"arrowwidth\":1},\"autotypenumbers\":\"strict\",\"coloraxis\":{\"colorbar\":{\"outlinewidth\":0,\"ticks\":\"\"}},\"colorscale\":{\"diverging\":[[0,\"#8e0152\"],[0.1,\"#c51b7d\"],[0.2,\"#de77ae\"],[0.3,\"#f1b6da\"],[0.4,\"#fde0ef\"],[0.5,\"#f7f7f7\"],[0.6,\"#e6f5d0\"],[0.7,\"#b8e186\"],[0.8,\"#7fbc41\"],[0.9,\"#4d9221\"],[1,\"#276419\"]],\"sequential\":[[0.0,\"#0d0887\"],[0.1111111111111111,\"#46039f\"],[0.2222222222222222,\"#7201a8\"],[0.3333333333333333,\"#9c179e\"],[0.4444444444444444,\"#bd3786\"],[0.5555555555555556,\"#d8576b\"],[0.6666666666666666,\"#ed7953\"],[0.7777777777777778,\"#fb9f3a\"],[0.8888888888888888,\"#fdca26\"],[1.0,\"#f0f921\"]],\"sequentialminus\":[[0.0,\"#0d0887\"],[0.1111111111111111,\"#46039f\"],[0.2222222222222222,\"#7201a8\"],[0.3333333333333333,\"#9c179e\"],[0.4444444444444444,\"#bd3786\"],[0.5555555555555556,\"#d8576b\"],[0.6666666666666666,\"#ed7953\"],[0.7777777777777778,\"#fb9f3a\"],[0.8888888888888888,\"#fdca26\"],[1.0,\"#f0f921\"]]},\"colorway\":[\"#636efa\",\"#EF553B\",\"#00cc96\",\"#ab63fa\",\"#FFA15A\",\"#19d3f3\",\"#FF6692\",\"#B6E880\",\"#FF97FF\",\"#FECB52\"],\"font\":{\"color\":\"#2a3f5f\"},\"geo\":{\"bgcolor\":\"white\",\"lakecolor\":\"white\",\"landcolor\":\"white\",\"showlakes\":true,\"showland\":true,\"subunitcolor\":\"#C8D4E3\"},\"hoverlabel\":{\"align\":\"left\"},\"hovermode\":\"closest\",\"mapbox\":{\"style\":\"light\"},\"paper_bgcolor\":\"white\",\"plot_bgcolor\":\"white\",\"polar\":{\"angularaxis\":{\"gridcolor\":\"#EBF0F8\",\"linecolor\":\"#EBF0F8\",\"ticks\":\"\"},\"bgcolor\":\"white\",\"radialaxis\":{\"gridcolor\":\"#EBF0F8\",\"linecolor\":\"#EBF0F8\",\"ticks\":\"\"}},\"scene\":{\"xaxis\":{\"backgroundcolor\":\"white\",\"gridcolor\":\"#DFE8F3\",\"gridwidth\":2,\"linecolor\":\"#EBF0F8\",\"showbackground\":true,\"ticks\":\"\",\"zerolinecolor\":\"#EBF0F8\"},\"yaxis\":{\"backgroundcolor\":\"white\",\"gridcolor\":\"#DFE8F3\",\"gridwidth\":2,\"linecolor\":\"#EBF0F8\",\"showbackground\":true,\"ticks\":\"\",\"zerolinecolor\":\"#EBF0F8\"},\"zaxis\":{\"backgroundcolor\":\"white\",\"gridcolor\":\"#DFE8F3\",\"gridwidth\":2,\"linecolor\":\"#EBF0F8\",\"showbackground\":true,\"ticks\":\"\",\"zerolinecolor\":\"#EBF0F8\"}},\"shapedefaults\":{\"line\":{\"color\":\"#2a3f5f\"}},\"ternary\":{\"aaxis\":{\"gridcolor\":\"#DFE8F3\",\"linecolor\":\"#A2B1C6\",\"ticks\":\"\"},\"baxis\":{\"gridcolor\":\"#DFE8F3\",\"linecolor\":\"#A2B1C6\",\"ticks\":\"\"},\"bgcolor\":\"white\",\"caxis\":{\"gridcolor\":\"#DFE8F3\",\"linecolor\":\"#A2B1C6\",\"ticks\":\"\"}},\"title\":{\"x\":0.05},\"xaxis\":{\"automargin\":true,\"gridcolor\":\"#EBF0F8\",\"linecolor\":\"#EBF0F8\",\"ticks\":\"\",\"title\":{\"standoff\":15},\"zerolinecolor\":\"#EBF0F8\",\"zerolinewidth\":2},\"yaxis\":{\"automargin\":true,\"gridcolor\":\"#EBF0F8\",\"linecolor\":\"#EBF0F8\",\"ticks\":\"\",\"title\":{\"standoff\":15},\"zerolinecolor\":\"#EBF0F8\",\"zerolinewidth\":2}}},\"title\":{\"text\":\"Slope Chart: Prior vs. Posterior Probabilities\"},\"xaxis\":{\"title\":{\"text\":\"Stage\"}},\"yaxis\":{\"title\":{\"text\":\"Probability\"}},\"legend\":{\"title\":{\"text\":\"Poker Hand Type\"}}},                        {\"responsive\": true}                    ).then(function(){\n",
              "                            \n",
              "var gd = document.getElementById('b1d34ad1-bdda-4b56-9d5b-e61920165eb9');\n",
              "var x = new MutationObserver(function (mutations, observer) {{\n",
              "        var display = window.getComputedStyle(gd).display;\n",
              "        if (!display || display === 'none') {{\n",
              "            console.log([gd, 'removed!']);\n",
              "            Plotly.purge(gd);\n",
              "            observer.disconnect();\n",
              "        }}\n",
              "}});\n",
              "\n",
              "// Listen for the removal of the full notebook cells\n",
              "var notebookContainer = gd.closest('#notebook-container');\n",
              "if (notebookContainer) {{\n",
              "    x.observe(notebookContainer, {childList: true});\n",
              "}}\n",
              "\n",
              "// Listen for the clearing of the current output cell\n",
              "var outputEl = gd.closest('.output');\n",
              "if (outputEl) {{\n",
              "    x.observe(outputEl, {childList: true});\n",
              "}}\n",
              "\n",
              "                        })                };                            </script>        </div>\n",
              "</body>\n",
              "</html>"
            ]
          },
          "metadata": {}
        }
      ]
    },
    {
      "cell_type": "code",
      "source": [
        "## 5. Helper Functions: Deck Generation\n",
        "\n",
        "# We use a utility function to generate a standard 52‑card deck and display some details.\n",
        "\n",
        "deck = get_deck()\n",
        "print(\"The deck contains\", len(deck), \"cards.\")\n",
        "print(\"First 5 cards in the deck:\", deck[:5])"
      ],
      "metadata": {
        "colab": {
          "base_uri": "https://localhost:8080/"
        },
        "id": "-pwU-Rd6HpJt",
        "outputId": "afe87860-c5e4-463e-b6ba-79c08af58939"
      },
      "execution_count": 15,
      "outputs": [
        {
          "output_type": "stream",
          "name": "stdout",
          "text": [
            "The deck contains 52 cards.\n",
            "First 5 cards in the deck: ['2H', '3H', '4H', '5H', '6H']\n"
          ]
        }
      ]
    }
  ]
}