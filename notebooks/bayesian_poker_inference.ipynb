{
  "nbformat": 4,
  "nbformat_minor": 0,
  "metadata": {
    "colab": {
      "provenance": []
    },
    "kernelspec": {
      "name": "python3",
      "display_name": "Python 3"
    },
    "language_info": {
      "name": "python"
    }
  },
  "cells": [
    {
      "cell_type": "code",
      "execution_count": 3,
      "metadata": {
        "colab": {
          "base_uri": "https://localhost:8080/",
          "height": 401
        },
        "id": "chWArKHZEJJj",
        "outputId": "801d16d2-d4cc-44e8-f6bd-db173540548a"
      },
      "outputs": [
        {
          "output_type": "error",
          "ename": "ModuleNotFoundError",
          "evalue": "No module named 'bayesian_poker'",
          "traceback": [
            "\u001b[0;31m---------------------------------------------------------------------------\u001b[0m",
            "\u001b[0;31mModuleNotFoundError\u001b[0m                       Traceback (most recent call last)",
            "\u001b[0;32m<ipython-input-3-f5e6fbacdca6>\u001b[0m in \u001b[0;36m<cell line: 0>\u001b[0;34m()\u001b[0m\n\u001b[1;32m     18\u001b[0m \u001b[0;34m\u001b[0m\u001b[0m\n\u001b[1;32m     19\u001b[0m \u001b[0;31m# Import necessary modules from the bayesian_poker package\u001b[0m\u001b[0;34m\u001b[0m\u001b[0;34m\u001b[0m\u001b[0m\n\u001b[0;32m---> 20\u001b[0;31m \u001b[0;32mfrom\u001b[0m \u001b[0mbayesian_poker\u001b[0m\u001b[0;34m.\u001b[0m\u001b[0mhand_types\u001b[0m \u001b[0;32mimport\u001b[0m \u001b[0mclassify_hand\u001b[0m\u001b[0;34m\u001b[0m\u001b[0;34m\u001b[0m\u001b[0m\n\u001b[0m\u001b[1;32m     21\u001b[0m \u001b[0;32mfrom\u001b[0m \u001b[0mbayesian_poker\u001b[0m\u001b[0;34m.\u001b[0m\u001b[0mlikelihood\u001b[0m \u001b[0;32mimport\u001b[0m \u001b[0mcompute_likelihood\u001b[0m\u001b[0;34m\u001b[0m\u001b[0;34m\u001b[0m\u001b[0m\n\u001b[1;32m     22\u001b[0m \u001b[0;32mfrom\u001b[0m \u001b[0mbayesian_poker\u001b[0m\u001b[0;34m.\u001b[0m\u001b[0mbayesian_update\u001b[0m \u001b[0;32mimport\u001b[0m \u001b[0mbayesian_update\u001b[0m\u001b[0;34m\u001b[0m\u001b[0;34m\u001b[0m\u001b[0m\n",
            "\u001b[0;31mModuleNotFoundError\u001b[0m: No module named 'bayesian_poker'",
            "",
            "\u001b[0;31m---------------------------------------------------------------------------\u001b[0;32m\nNOTE: If your import is failing due to a missing package, you can\nmanually install dependencies using either !pip or !apt.\n\nTo view examples of installing some common dependencies, click the\n\"Open Examples\" button below.\n\u001b[0;31m---------------------------------------------------------------------------\u001b[0m\n"
          ],
          "errorDetails": {
            "actions": [
              {
                "action": "open_url",
                "actionText": "Open Examples",
                "url": "/notebooks/snippets/importing_libraries.ipynb"
              }
            ]
          }
        }
      ],
      "source": [
        "# Bayesian Poker Inference\n",
        "\n",
        "# A Bayesian Approach to Poker Hand Analysis\n",
        "\n",
        "# This notebook demonstrates how to apply Bayesian inference techniques to analyze poker hand types.\n",
        "# In this project, we estimate the likelihood of various poker hand types (e.g., Straight Flush, Full House, etc.) based on partial card information, and update our beliefs using Bayesian updating.\n",
        "# The workflow includes hand classification, likelihood estimation, Bayesian updating, posterior visualization, and utility functions.\n",
        "\n",
        "## Setup and Imports\n",
        "\n",
        "# Before running the notebook, ensure that your package is installed.\n",
        "# If you are running in Google Colab, you may need to install your package from GitHub or upload the files.\n",
        "# Uncomment the installation command below if necessary.\n",
        "\n",
        "# %%\n",
        "# Uncomment the following line in Google Colab if your package is not installed\n",
        "# !pip install -e .\n",
        "\n",
        "# Import necessary modules from the bayesian_poker package\n",
        "from bayesian_poker.hand_types import classify_hand\n",
        "from bayesian_poker.likelihood import compute_likelihood\n",
        "from bayesian_poker.bayesian_update import bayesian_update\n",
        "from bayesian_poker.visualization import plot_posteriors\n",
        "from bayesian_poker.utils import get_deck"
      ]
    },
    {
      "cell_type": "code",
      "source": [
        "## 1. Hand Classification\n",
        "\n",
        "# We start by classifying a complete 5‑card hand. In this example, we classify a hand as a Straight Flush.\n",
        "\n",
        "hand = ['AH', 'KH', 'QH', 'JH', '10H']\n",
        "\n",
        "# Classify the hand using the combinatorial functions\n",
        "hand_type = classify_hand(hand)\n",
        "print(\"Hand:\", hand)\n",
        "print(\"Classified as:\", hand_type)"
      ],
      "metadata": {
        "colab": {
          "base_uri": "https://localhost:8080/",
          "height": 221
        },
        "id": "D1LIXSFREpIa",
        "outputId": "289417b1-7ce7-4e7a-ea11-db79efc37525"
      },
      "execution_count": 4,
      "outputs": [
        {
          "output_type": "error",
          "ename": "NameError",
          "evalue": "name 'classify_hand' is not defined",
          "traceback": [
            "\u001b[0;31m---------------------------------------------------------------------------\u001b[0m",
            "\u001b[0;31mNameError\u001b[0m                                 Traceback (most recent call last)",
            "\u001b[0;32m<ipython-input-4-feed2467a6d3>\u001b[0m in \u001b[0;36m<cell line: 0>\u001b[0;34m()\u001b[0m\n\u001b[1;32m      6\u001b[0m \u001b[0;34m\u001b[0m\u001b[0m\n\u001b[1;32m      7\u001b[0m \u001b[0;31m# Classify the hand using the combinatorial functions\u001b[0m\u001b[0;34m\u001b[0m\u001b[0;34m\u001b[0m\u001b[0m\n\u001b[0;32m----> 8\u001b[0;31m \u001b[0mhand_type\u001b[0m \u001b[0;34m=\u001b[0m \u001b[0mclassify_hand\u001b[0m\u001b[0;34m(\u001b[0m\u001b[0mhand\u001b[0m\u001b[0;34m)\u001b[0m\u001b[0;34m\u001b[0m\u001b[0;34m\u001b[0m\u001b[0m\n\u001b[0m\u001b[1;32m      9\u001b[0m \u001b[0mprint\u001b[0m\u001b[0;34m(\u001b[0m\u001b[0;34m\"Hand:\"\u001b[0m\u001b[0;34m,\u001b[0m \u001b[0mhand\u001b[0m\u001b[0;34m)\u001b[0m\u001b[0;34m\u001b[0m\u001b[0;34m\u001b[0m\u001b[0m\n\u001b[1;32m     10\u001b[0m \u001b[0mprint\u001b[0m\u001b[0;34m(\u001b[0m\u001b[0;34m\"Classified as:\"\u001b[0m\u001b[0;34m,\u001b[0m \u001b[0mhand_type\u001b[0m\u001b[0;34m)\u001b[0m\u001b[0;34m\u001b[0m\u001b[0;34m\u001b[0m\u001b[0m\n",
            "\u001b[0;31mNameError\u001b[0m: name 'classify_hand' is not defined"
          ]
        }
      ]
    },
    {
      "cell_type": "code",
      "source": [
        "## 2. Partial Observation Likelihood\n",
        "\n",
        "# We now estimate the likelihood that a partial hand will complete to a given hand type.\n",
        "# For instance, we use a partial hand of 4 hearts to compute the probability of completing a flush.\n",
        "\n",
        "# Define a partial hand with 4 hearts\n",
        "partial_hand = ['2H', '5H', '7H', '9H']\n",
        "\n",
        "# Compute the likelihood of obtaining a Flush with the partial hand\n",
        "likelihood_flush = compute_likelihood(partial_hand, \"Flush\")\n",
        "print(\"Partial hand:\", partial_hand)\n",
        "print(\"Likelihood of a Flush:\", likelihood_flush)"
      ],
      "metadata": {
        "id": "7LDaVx7rE6mK"
      },
      "execution_count": null,
      "outputs": []
    },
    {
      "cell_type": "code",
      "source": [
        "## 3. Bayesian Updating\n",
        "\n",
        "# We combine prior probabilities with the computed likelihoods to get posterior probabilities using Bayes' theorem.\n",
        "\n",
        "\n",
        "# %%\n",
        "# Define prior probabilities for various poker hand types\n",
        "priors = {\n",
        "    \"Flush\": 0.2,\n",
        "    \"Straight\": 0.1,\n",
        "    \"Straight Flush\": 0.01,\n",
        "    \"Four of a Kind\": 0.005,\n",
        "    \"Full House\": 0.03,\n",
        "    \"Three of a Kind\": 0.04,\n",
        "    \"Two Pair\": 0.05,\n",
        "    \"One Pair\": 0.3,\n",
        "    \"High Card\": 0.265\n",
        "}\n",
        "\n",
        "# Use a partial hand example (2 known cards)\n",
        "partial_hand_example = ['AH', 'KH']\n",
        "\n",
        "# Compute likelihoods for each hand type using the partial hand example\n",
        "likelihoods = {ht: compute_likelihood(partial_hand_example, ht) for ht in priors}\n",
        "\n",
        "# Update posterior probabilities using Bayesian updating\n",
        "posteriors = bayesian_update(priors, likelihoods)\n",
        "\n",
        "print(\"Posterior Probabilities:\")\n",
        "for ht, prob in posteriors.items():\n",
        "    print(f\"{ht}: {prob:.4f}\")"
      ],
      "metadata": {
        "colab": {
          "base_uri": "https://localhost:8080/",
          "height": 110
        },
        "id": "CfBVIkCBFGdx",
        "outputId": "2940d228-beaf-40cb-e5bc-1906278e7386"
      },
      "execution_count": 5,
      "outputs": [
        {
          "output_type": "error",
          "ename": "SyntaxError",
          "evalue": "incomplete input (<ipython-input-5-f3b25e315b7e>, line 1)",
          "traceback": [
            "\u001b[0;36m  File \u001b[0;32m\"<ipython-input-5-f3b25e315b7e>\"\u001b[0;36m, line \u001b[0;32m1\u001b[0m\n\u001b[0;31m    \"\"\"\u001b[0m\n\u001b[0m    ^\u001b[0m\n\u001b[0;31mSyntaxError\u001b[0m\u001b[0;31m:\u001b[0m incomplete input\n"
          ]
        }
      ]
    },
    {
      "cell_type": "code",
      "source": [
        "## 4. Posterior Visualization\n",
        "\n",
        "# We visualize the posterior probabilities using a bar chart.\n",
        "\n",
        "plot_posteriors(posteriors)"
      ],
      "metadata": {
        "id": "w1u0dYIvHj6o"
      },
      "execution_count": null,
      "outputs": []
    },
    {
      "cell_type": "code",
      "source": [
        "## 5. Helper Functions: Deck Generation\n",
        "\n",
        "# We use a utility function to generate a standard 52‑card deck and display some details.\n",
        "\n",
        "deck = get_deck()\n",
        "print(\"The deck contains\", len(deck), \"cards.\")\n",
        "print(\"First 5 cards in the deck:\", deck[:5])"
      ],
      "metadata": {
        "id": "-pwU-Rd6HpJt"
      },
      "execution_count": null,
      "outputs": []
    }
  ]
}